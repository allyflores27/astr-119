{
 "cells": [
  {
   "cell_type": "code",
   "execution_count": null,
   "id": "aea76555",
   "metadata": {},
   "outputs": [],
   "source": [
    "import numpy as np\n",
    "import matplotlib.pyplot as plt\n",
    "\n",
    "\n",
    "\n",
    "\n",
    "#creating an array x with 1000 cells, with each cell being a value from\n",
    "# [0,2pi]\n",
    "\n",
    "x = np.linspace(0.0,2*np.pi,1000)\n",
    "\n",
    "#functions\n",
    "\n",
    "w = (5.5*np.cos(2*x))+5.5\n",
    "y = 0.02*np.exp(x)\n",
    "z = (0.25*(x**2))+(0.1*np.sin(10*x))\n",
    "\n",
    "#adjust size of figure\n",
    "\n",
    "fig = plt.figure(figsize=(10,10))\n",
    "\n",
    "\n",
    "#graph the 3 equations\n",
    "\n",
    "plt.plot(x,w, label=r'$y = 5.5cos(2x) + 5.5$')\n",
    "plt.plot(x,y, label=r'$y = 0.02*e^x$')\n",
    "plt.plot(x,z, label=r'$y = .25x^2 +0.1sin(10x)4$')\n",
    "\n",
    "\n",
    "#label axis\n",
    "plt.xlabel('Time in ASTR 119')\n",
    "plt.ylabel('Measure in Awesomeness')\n",
    "\n",
    "#ranges for x and y, legend, then actually plot\n",
    "plt.xlim([0,2*np.pi])\n",
    "plt.ylim([-1,10])\n",
    "plt.legend(loc=1,framealpha=0.95)\n",
    "plt.show()"
   ]
  },
  {
   "cell_type": "code",
   "execution_count": null,
   "id": "364cb371",
   "metadata": {},
   "outputs": [],
   "source": []
  }
 ],
 "metadata": {
  "kernelspec": {
   "display_name": "Python 3 (ipykernel)",
   "language": "python",
   "name": "python3"
  },
  "language_info": {
   "codemirror_mode": {
    "name": "ipython",
    "version": 3
   },
   "file_extension": ".py",
   "mimetype": "text/x-python",
   "name": "python",
   "nbconvert_exporter": "python",
   "pygments_lexer": "ipython3",
   "version": "3.9.7"
  }
 },
 "nbformat": 4,
 "nbformat_minor": 5
}
