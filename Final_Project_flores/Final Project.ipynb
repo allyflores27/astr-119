{
 "cells": [
  {
   "cell_type": "code",
   "execution_count": null,
   "metadata": {
    "scrolled": true
   },
   "outputs": [],
   "source": [
    "import numpy as np\n",
    "import matplotlib.pyplot as plt\n",
    "import random\n",
    "from scipy import integrate"
   ]
  },
  {
   "cell_type": "code",
   "execution_count": null,
   "metadata": {
    "scrolled": true
   },
   "outputs": [],
   "source": [
    "def function(x):\n",
    "    return np.cos(x)"
   ]
  },
  {
   "cell_type": "markdown",
   "metadata": {},
   "source": [
    "### Finds minimum for function on the domain a,b\n"
   ]
  },
  {
   "cell_type": "code",
   "execution_count": null,
   "metadata": {
    "scrolled": false
   },
   "outputs": [],
   "source": [
    "def minimum(func,a,b):\n",
    "    x_values=np.linspace(a,b,100000)\n",
    "    y_values=func(x_values)\n",
    "    \n",
    "    min_num=min(y_values)\n",
    "    return min_num"
   ]
  },
  {
   "cell_type": "markdown",
   "metadata": {},
   "source": [
    "### this function find the max value on the domain a,b"
   ]
  },
  {
   "cell_type": "code",
   "execution_count": null,
   "metadata": {
    "scrolled": true
   },
   "outputs": [],
   "source": [
    "def maximum(func,a,b):\n",
    "    x_values=np.linspace(a,b,100000)\n",
    "    y_values=func(x_values)\n",
    "    \n",
    "    max_num=max(y_values)\n",
    "    \n",
    "    return max_num"
   ]
  },
  {
   "cell_type": "markdown",
   "metadata": {},
   "source": [
    "This function takes in the function we are 'integrating', the integral bounds, and the maximum number of iterations in. The function then selects a random point, and determines whether or not it is below or above the function. It then funs the area in total, then the the are under the curve."
   ]
  },
  {
   "cell_type": "code",
   "execution_count": null,
   "metadata": {
    "scrolled": true
   },
   "outputs": [],
   "source": [
    "def integration(func,a,b,min_num,max_num,i_count):\n",
    "    #func-function we are integrating\n",
    "    #a-lower bound\n",
    "    #b-upper bound\n",
    "    #max_num-max number on integral\n",
    "    #i_count-numb of iterations\n",
    "    i=0.0\n",
    "    points_below=0\n",
    "    while(i<i_count):\n",
    "        #getting a random point within grade\n",
    "        x=random.uniform(a,b)\n",
    "        y=random.uniform(min_num,max_num)\n",
    "        \n",
    "        #if y is less than max on interval, \n",
    "        #then it must be under the curve(and thus in area)\n",
    "        #and it needs to be accounted for\n",
    "        if (y<func(x)):\n",
    "            points_below= points_below + 1\n",
    "        \n",
    "        i=i+1\n",
    "        \n",
    "        \n",
    "    area_max=(max_num-min_num)*(b-a)\n",
    "    area_under=(points_below/i)*area_max\n",
    "    return area_under"
   ]
  },
  {
   "cell_type": "markdown",
   "metadata": {},
   "source": [
    "### finds error between integral made in function and system definite integral"
   ]
  },
  {
   "cell_type": "code",
   "execution_count": null,
   "metadata": {
    "scrolled": false
   },
   "outputs": [],
   "source": [
    "def error(func,a,b,estim):\n",
    "    #func-function we are integrating\n",
    "    #a-lower bound\n",
    "    #b-upper bound\n",
    "    answer=integrate.quad(func,a,b)\n",
    "    err=np.fabs(answer-estimate)/answer\n",
    "    \n",
    "    return err"
   ]
  },
  {
   "cell_type": "markdown",
   "metadata": {},
   "source": [
    "### Tests functions"
   ]
  },
  {
   "cell_type": "code",
   "execution_count": null,
   "metadata": {
    "scrolled": false
   },
   "outputs": [],
   "source": [
    "a=0.0\n",
    "b=1.75\n",
    "\n",
    "max_numb=maximum(function,a,b)\n",
    "min_numb=minimum(function,a,b)\n",
    "iterations=100000\n",
    "\n",
    "estimate=integration(function,a,b,min_numb,max_numb,iterations)\n",
    "print(estimate)\n",
    "tolerance=error(function,a,b,estimate)\n",
    "print (\"The tolerance for this function is the first number, with the second number is the certainty of the tolerance \", tolerance)"
   ]
  },
  {
   "cell_type": "code",
   "execution_count": null,
   "metadata": {
    "scrolled": false
   },
   "outputs": [],
   "source": [
    "points=250\n",
    "max_numb=maximum(function,a,b)\n",
    "min_numb=minimum(function,a,b)\n",
    "x=np.linspace(0.0,1.75,100)\n",
    "y=function(x)\n",
    "\n",
    "plt.plot(x,y, label=\"cos(x)\")\n",
    "plt.xlabel('x')\n",
    "plt.ylabel('f(x)')\n",
    "plt.xlim(0.0,1.75)\n",
    "plt.ylim(min_numb,max_numb)\n",
    "\n",
    "label=\"points below curve\",\n",
    "label=\"points above curve\"\n",
    "i=0.0\n",
    "\n",
    "\n",
    "while(i<points):\n",
    "        #getting a random point within grade\n",
    "        x_coord=random.uniform(a,b)\n",
    "        y_coord=random.uniform(min_numb,max_numb)\n",
    "        if (y_coord<function(x_coord)):\n",
    "            plt.plot(x_coord,y_coord,marker=\"o\",color='g')\n",
    "        elif(y_coord>function(x_coord)):\n",
    "            plt.plot(x_coord,y_coord,marker=\"o\",color='r')\n",
    "        i=i+1\n",
    "        \n",
    "\n",
    "\n",
    "plt.legend()\n",
    "plt.show()"
   ]
  },
  {
   "cell_type": "code",
   "execution_count": null,
   "metadata": {},
   "outputs": [],
   "source": []
  }
 ],
 "metadata": {
  "kernelspec": {
   "display_name": "Python 3",
   "language": "python",
   "name": "python3"
  },
  "language_info": {
   "codemirror_mode": {
    "name": "ipython",
    "version": 3
   },
   "file_extension": ".py",
   "mimetype": "text/x-python",
   "name": "python",
   "nbconvert_exporter": "python",
   "pygments_lexer": "ipython3",
   "version": "3.8.5"
  }
 },
 "nbformat": 4,
 "nbformat_minor": 4
}
