{
 "cells": [
  {
   "cell_type": "markdown",
   "metadata": {},
   "source": [
    "## This program finds the roots of a polynomial"
   ]
  },
  {
   "cell_type": "code",
   "execution_count": null,
   "metadata": {},
   "outputs": [],
   "source": [
    "import numpy as np\n",
    "import matplotlib.pyplot as plt"
   ]
  },
  {
   "cell_type": "code",
   "execution_count": null,
   "metadata": {},
   "outputs": [],
   "source": [
    "#this function takes x in as an argument\n",
    "#and returns the roots for the polynomial\n",
    "# f(x)=ax^2+bx+c\n",
    "# where a=1.01, b=-3.04, and c=2.07\n",
    "\n",
    "def function_for_roots(x):\n",
    "    a=1.01\n",
    "    b=-3.04\n",
    "    c=2.07\n",
    "    return a*x**2 + b*x +c"
   ]
  },
  {
   "cell_type": "code",
   "execution_count": null,
   "metadata": {},
   "outputs": [],
   "source": [
    "#this function checks our initial guesses\n",
    "#then returns \n",
    "\n",
    "def check_initial_values(f, x_min, x_max, tol):\n",
    "    \n",
    "    #to check our initial guesses\n",
    "    y_min=f(x_min)\n",
    "    y_max=f(x_max)\n",
    "   \n",
    "   \n",
    "    if(y_min*y_max>=0.0):\n",
    "        print(\"no zero crossing found in the range = \", x_min, x_max)\n",
    "        s= \"funct(%f) = %f, func(%f) = %f\" % (x_min,y_min,x_max,y_max)\n",
    "        print(s)\n",
    "        return 0\n",
    "   \n",
    "   \n",
    "   \n",
    "    #if x_min is a root\n",
    "    if(np.fabs(y_min)<tol):\n",
    "        return 1\n",
    "    \n",
    "   #if x max is a root\n",
    "    if(np.fabs(y_max)<tol):\n",
    "        return 2\n",
    "   #if we reach this point we didn't guess a root \n",
    "#so we have to use this valid bracket\n",
    "    return 3\n",
    "\n",
    "        "
   ]
  },
  {
   "cell_type": "markdown",
   "metadata": {},
   "source": [
    "## main work function"
   ]
  },
  {
   "cell_type": "code",
   "execution_count": null,
   "metadata": {},
   "outputs": [],
   "source": [
    "#this function uses bisection search to find a root of func\n",
    "def bisection_root_finding(f, x_min_start, x_max_start, tol):\n",
    "    x_min = x_min_start\n",
    "    x_max = x_max_start\n",
    "    x_mid = 0.0\n",
    "    \n",
    "    y_min = f(x_min)\n",
    "    y_max = f(x_max)\n",
    "    y_mid = 0.0\n",
    "    \n",
    "    imax=10000 #max numb of it\n",
    "    i=0 #iteration counter\n",
    "    \n",
    "    #checl the initial values\n",
    "    flag = check_initial_values(f,x_min,x_max,tol)\n",
    "    \n",
    "    if (flag==0):\n",
    "        print(\"Error in bisection root finding\")\n",
    "        raise ValueError(\"Initial values invalid\",x_min,x_max)\n",
    "    elif(flag==1):\n",
    "        return x_min\n",
    "    elif(flag==2):\n",
    "        return x_max\n",
    "    #conduct search if here\n",
    "    #so set flag\n",
    "    \n",
    "    flag=1\n",
    "    \n",
    "    while(flag):\n",
    "        #set midpoint\n",
    "        \n",
    "        x_mid=(x_min+x_max)*0.5\n",
    "        y_mid=f(x_mid) #func at xmid\n",
    "        \n",
    "        #check if x_mid is a root\n",
    "        if(np.fabs(y_mid)<tol):\n",
    "            flag=0\n",
    "        else:\n",
    "                #if product of the function at the midpoint and at one of the \n",
    "                #points is greater than zero, then the end point is assigned\n",
    "                #the value of x_mid\n",
    "                \n",
    "                if(f(x_min)*f(x_mid)>0):\n",
    "                    #replace x_min with x_mid\n",
    "                    x_min=x_mid\n",
    "                else:\n",
    "                    #replace x_max with x_mid\n",
    "                    x_max=x_mid\n",
    "                #print out iteration\n",
    "                print(x_min,f(x_min),x_max,f(x_max))\n",
    "                \n",
    "                #counter goes up by 1\n",
    "                i+=1\n",
    "                \n",
    "                #exit if max number of iterations exit\n",
    "                if(i>imax):\n",
    "                    print(\"Exceeded max number of iterations =\", i)\n",
    "                    s =\"Min bracket f(%f)=%f\" % (x_min,f(x_min))\n",
    "                    print(s)\n",
    "                    s =\"Max bracket f(%f)=%f\" % (x_max,f(x_max))\n",
    "                    print(s)\n",
    "                    s =\"Mid bracket f(%f)=%f\" % (x_mid,f(x_mid))\n",
    "                    print(s)\n",
    "                    \n",
    "                    raise StopIteration('Stopping iterations after',i)\n",
    "                    \n",
    "                #inside while\n",
    "                #outside while\n",
    "    return x_mid"
   ]
  },
  {
   "cell_type": "markdown",
   "metadata": {},
   "source": [
    "## Perform the search actual search"
   ]
  },
  {
   "cell_type": "markdown",
   "metadata": {},
   "source": [
    "#### Method takes about 19 iterations in order estimation to converge"
   ]
  },
  {
   "cell_type": "code",
   "execution_count": null,
   "metadata": {},
   "outputs": [],
   "source": [
    "x_min = 0.0\n",
    "x_max = 1.5\n",
    "tolerance = 1.0e-6\n",
    "\n",
    "#print the initial guesses\n",
    "print(x_min,function_for_roots(x_min))\n",
    "print(x_max,function_for_roots(x_max))\n",
    "\n",
    "#call bisection root finding func\n",
    "x_root = bisection_root_finding(function_for_roots,x_min,x_max,tolerance)\n",
    "y_root = function_for_roots(x_root)\n",
    "s=\"Root found with y(%f)=%f\" %(x_root,y_root)\n",
    "\n",
    "print(s)"
   ]
  },
  {
   "cell_type": "markdown",
   "metadata": {},
   "source": [
    "## Plotting"
   ]
  },
  {
   "cell_type": "code",
   "execution_count": null,
   "metadata": {},
   "outputs": [],
   "source": [
    "#creating 2 arrays for x and f(x)\n",
    "x = np.linspace(0.0,3.0,1000)\n",
    "f_of_x = function_for_roots(x)\n",
    "\n",
    "#plot, labels, + limits for x, f(x), and bracketing values\n",
    "fig = plt.figure(figsize=(7,7)) \n",
    "plt.plot(x,f_of_x)\n",
    "plt.xlabel('x')\n",
    "plt.ylabel('f(x)')\n",
    "plt.xlim(0.0,3)\n",
    "plt.ylim(-0.5,2.1)\n",
    "plt.plot(x_min,function_for_roots(x_min),marker=\"o\",color='g')\n",
    "plt.plot(x_max,function_for_roots(x_max),marker=\"o\",color='r')\n",
    "\n",
    "#horizontal line (dotted bc i think it looks cool)\n",
    "plt.axhline(y=0, color='k', linestyle='--')\n",
    "\n",
    "\n",
    "plt.show()"
   ]
  }
 ],
 "metadata": {
  "kernelspec": {
   "display_name": "Python 3",
   "language": "python",
   "name": "python3"
  },
  "language_info": {
   "codemirror_mode": {
    "name": "ipython",
    "version": 3
   },
   "file_extension": ".py",
   "mimetype": "text/x-python",
   "name": "python",
   "nbconvert_exporter": "python",
   "pygments_lexer": "ipython3",
   "version": "3.8.5"
  }
 },
 "nbformat": 4,
 "nbformat_minor": 4
}
