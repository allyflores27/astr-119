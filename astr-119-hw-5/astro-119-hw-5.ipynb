{
 "cells": [
  {
   "cell_type": "code",
   "execution_count": null,
   "metadata": {},
   "outputs": [],
   "source": [
    "import numpy as np\n",
    "import matplotlib.pyplot as plt"
   ]
  },
  {
   "cell_type": "code",
   "execution_count": null,
   "metadata": {},
   "outputs": [],
   "source": [
    "def func(x):\n",
    "    a=-2*x\n",
    "    b=10*x\n",
    "    return np.exp(a)*np.cos(b) "
   ]
  },
  {
   "cell_type": "code",
   "execution_count": null,
   "metadata": {},
   "outputs": [],
   "source": [
    "def func_integral(x):\n",
    "    a=(np.exp(-2*x))/52\n",
    "    b=10*x\n",
    "    return a*(5*np.sin(b)-np.cos(b))"
   ]
  },
  {
   "cell_type": "markdown",
   "metadata": {},
   "source": [
    "## trapezoid method\n",
    "here we use the trapezoid to approximate the integral the function f(x)=e^(-2x)*cos(10x) from 0 to pi. It takes 557 iterations in order for this method to be within the tolerance of 1e-6 or less."
   ]
  },
  {
   "cell_type": "code",
   "execution_count": null,
   "metadata": {},
   "outputs": [],
   "source": [
    "def trapezoid_core(f,x,h):\n",
    "    return 0.5*h*(f(x+h)+f(x))"
   ]
  },
  {
   "cell_type": "code",
   "execution_count": null,
   "metadata": {},
   "outputs": [],
   "source": [
    "def trapezoid_method(f,a,b,N):\n",
    "    #f=function we're integrating\n",
    "    #a=lower limit of integration\n",
    "    #b=upper limit of integration\n",
    "    #N=number of function evalutions to use\n",
    "    \n",
    "    #define x values to perform the trapezoid rule\n",
    "    x=np.linspace(a,b,N)\n",
    "    h=x[1]-x[0]\n",
    "    \n",
    "    #value of the integral initially\n",
    "    Fint = 0.0\n",
    "    \n",
    "    #compute the integral using trapezoid method\n",
    "    for i in range (0,len(x)-1,1):\n",
    "        Fint += trapezoid_core(f,x[i],h)\n",
    "    return Fint"
   ]
  },
  {
   "cell_type": "markdown",
   "metadata": {},
   "source": [
    "## simpsons method\n",
    "Here we use simpsons method to approximate the integral the function f(x)=e^(-2x)*cos(10x) from 0 to pi. It takes 147 iterations for the error between the function and the approximation to have an error of 1e-6 or less."
   ]
  },
  {
   "cell_type": "code",
   "execution_count": null,
   "metadata": {},
   "outputs": [],
   "source": [
    "def simpson_core(f,x,h):\n",
    "    return h*(f(x)+ 4*f(x+h) + f(x+(2*h)))/3"
   ]
  },
  {
   "cell_type": "code",
   "execution_count": null,
   "metadata": {},
   "outputs": [],
   "source": [
    "def simpsons_method(f,a,b,N):\n",
    "    #f=function we're integrating\n",
    "    #a=lower limit of integration\n",
    "    #b=upper limit of integration\n",
    "    #N=number of function evalutions to use\n",
    "    # ---NOTE---\n",
    "    # last segment will need to be adjusted if N is not\n",
    "    #odd(even some may even say)\n",
    "    \n",
    "    #define x values to perform the trapezoid rule\n",
    "    x=np.linspace(a,b,N)\n",
    "    h=x[1]-x[0]\n",
    "    \n",
    "    #value of the integral initially\n",
    "    Fint = 0.0\n",
    "    \n",
    "    #compute the integral using trapezoid method\n",
    "    for i in range (0,len(x)-2,2):\n",
    "        Fint += simpson_core(f,x[i],h)\n",
    "    \n",
    "    #adjust using simpson's rule over the last interval\n",
    "    if((N%2)==0):\n",
    "        Fint += simpson_core(f,x[-2],0.5*h)\n",
    "    return Fint"
   ]
  },
  {
   "cell_type": "markdown",
   "metadata": {},
   "source": [
    "## romberg integation"
   ]
  },
  {
   "cell_type": "markdown",
   "metadata": {},
   "source": [
    "Here, the following functions use romberg's integration in order to approximate the integral the function f(x)=e^(-2x)*cos(10x) from 0 to pi. It takes 26 iterations in order for the error between the function and the approximation to have an error of 1e-6 or less."
   ]
  },
  {
   "cell_type": "code",
   "execution_count": null,
   "metadata": {},
   "outputs": [],
   "source": [
    "def romberg_core(f,a,b,i):\n",
    "    \n",
    "    h=b-a\n",
    "    \n",
    "    dh=h/2**i\n",
    "    \n",
    "    K=h/2**(i+1)\n",
    "    \n",
    "    M=0.0\n",
    "    for j in range(2**i):\n",
    "        M += f(a+ 0.5*dh + j*dh)\n",
    "        \n",
    "    return K*M"
   ]
  },
  {
   "cell_type": "code",
   "execution_count": null,
   "metadata": {},
   "outputs": [],
   "source": [
    "def romberg_integration(f,a,b,tol):\n",
    "    \n",
    "    #iteration variable + max num of iterations\n",
    "    i=0\n",
    "    imax=1000\n",
    "    \n",
    "    #error ertimate (largest val)\n",
    "    delta = 100.0*np.fabs(tol)\n",
    "    \n",
    "    #array of integral answers\n",
    "    I=np.zeros(imax,dtype=float)\n",
    "    \n",
    "    I[0]=0.5*(b-a)*(f(a)+f(b))\n",
    "    \n",
    "    i+=1\n",
    "    \n",
    "    while(delta>tol):\n",
    "        #\n",
    "        I[i]=0.5*I[i-1] + romberg_core(f,a,b,i)\n",
    "        delta = np.fabs( (I[i]-I[i-1])/I[i])\n",
    "        \n",
    "        print(i,I[i],I[i-1],delta)\n",
    "    \n",
    "        if(delta>tol):\n",
    "            i+=1\n",
    "        if(i>imax):\n",
    "            print(\"Max iterations reached.\")\n",
    "            raise StopIteration('Stopping iterations after',i)\n",
    "    return I[i]"
   ]
  },
  {
   "cell_type": "markdown",
   "metadata": {},
   "source": [
    "## check"
   ]
  },
  {
   "cell_type": "code",
   "execution_count": null,
   "metadata": {},
   "outputs": [],
   "source": [
    "pi=np.pi\n",
    "N1=557\n",
    "N2=148\n",
    "tolerance = 1.0e-6\n",
    "\n",
    "    \n",
    "Answer = func_integral(pi)-func_integral(0)\n",
    "print(Answer)\n",
    "print(\"Trapezoid\")\n",
    "print(trapezoid_method(func,0,pi,N1))\n",
    "print(\"Simpsons\")\n",
    "print(simpsons_method(func,0,pi,N2))\n",
    "print(\"Romberg\")\n",
    "\n",
    "\n",
    "RI = romberg_integration(func,0,pi,tolerance)\n",
    "print(RI,(RI-Answer)/Answer,tolerance)\n"
   ]
  },
  {
   "cell_type": "markdown",
   "metadata": {},
   "source": [
    "# N1=556\n",
    "\n",
    "\n",
    "sub=trapezoid_method(func,0,pi,N1)-trapezoid_method(func,0,pi,N1-1)\n",
    "if(np.fabs(sub/trapezoid_method(func,0,pi,N1-1))<=tolerance):\n",
    "    print(\"True when N is\")\n",
    "    print(N1)\n",
    "else:\n",
    "    print(\"not true\")"
   ]
  },
  {
   "cell_type": "markdown",
   "metadata": {},
   "source": [
    "# N2=148\n",
    "sub=simpsons_method(func,0,pi,N2)-simpsons_method(func,0,pi,N2-1)\n",
    "error=sub/simpsons_method(func,0,pi,N2-1)\n",
    "\n",
    "if(np.fabs(error)<=tolerance):\n",
    "    print(\"True when N is\", N2, error)\n",
    "    print(\"% diff from tol is\", np.fabs((error-tolerance)/tolerance), \"%\")\n",
    "else:\n",
    "    if(((error-tolerance)/tolerance)<0):\n",
    "        print(\"neg\")\n",
    "    print(\"the error was\", error)\n",
    "    print(np.fabs((error-tolerance)/tolerance))"
   ]
  }
 ],
 "metadata": {
  "kernelspec": {
   "display_name": "Python 3",
   "language": "python",
   "name": "python3"
  },
  "language_info": {
   "codemirror_mode": {
    "name": "ipython",
    "version": 3
   },
   "file_extension": ".py",
   "mimetype": "text/x-python",
   "name": "python",
   "nbconvert_exporter": "python",
   "pygments_lexer": "ipython3",
   "version": "3.8.5"
  }
 },
 "nbformat": 4,
 "nbformat_minor": 4
}
